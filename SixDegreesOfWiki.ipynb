{
 "cells": [
  {
   "cell_type": "code",
   "execution_count": null,
   "metadata": {},
   "outputs": [],
   "source": [
    "import pymysql\n",
    "\n",
    "conn = pymysql.connect(host='127.0.0.1', unix_socket='/tmp/mysql.sock',user='', passwd='', db='mysql', charset='utf8')\n",
    "cur = conn.cursor()\n",
    "cur.execute('USE wikipedia')\n",
    "\n",
    "def getUrl(pageId):\n",
    "    cur.execute('SELECT url FROM pages WHERE id = %s', (int(pageId)))\n",
    "    return cur.fetchone()[0]\n",
    "\n",
    "def getLinks(fromPageId):\n",
    "    cur.execute('SELECT toPageId FROM links WHERE fromPageId = %s', (int(fromPageId)))\n",
    "    if cur.rowcount == 0:\n",
    "        return []\n",
    "    return [x[0] for x in cur.fetchall()]\n",
    "\n",
    "def searchBreadth(targetPageId, paths=[[1]]):\n",
    "    newPaths = []\n",
    "    for path in paths:\n",
    "        links = getLinks(path[-1])\n",
    "        for link in links:\n",
    "            if link == targetPageId:\n",
    "                return path + [link]\n",
    "            else:\n",
    "                newPaths.append(path+[link])\n",
    "    return searchBreadth(targetPageId, newPaths)\n",
    "                \n",
    "nodes = getLinks(1)\n",
    "targetPageId = 28624\n",
    "pageIds = searchBreadth(targetPageId)\n",
    "for pageId in pageIds:\n",
    "    print(getUrl(pageId))"
   ]
  }
 ],
 "metadata": {
  "language_info": {
   "name": "python"
  },
  "orig_nbformat": 4
 },
 "nbformat": 4,
 "nbformat_minor": 2
}
